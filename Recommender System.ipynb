{
 "cells": [
  {
   "cell_type": "code",
   "execution_count": null,
   "metadata": {},
   "outputs": [],
   "source": [
    "import json\n",
    "import pandas as pd\n",
    "import seaborn as sns\n",
    "import matplotlib.pyplot as plt\n",
    "import numpy as np"
   ]
  },
  {
   "cell_type": "markdown",
   "metadata": {},
   "source": [
    "# Data Wrangling as Usual"
   ]
  },
  {
   "cell_type": "code",
   "execution_count": null,
   "metadata": {},
   "outputs": [],
   "source": [
    "json_cols = ['collection','genres','production_companies','production_countries']\n",
    "mv = pd.read_csv('movies_metadata.csv', parse_dates = ['release_date'])\n",
    "\n",
    "for cols in json_cols:\n",
    "    mv[cols] = mv[cols].apply(json.loads)\n",
    "    \n",
    "cr = pd.read_csv('credits.csv')\n",
    "\n",
    "cr['cast'] = cr['cast'].apply(json.loads)\n",
    "\n",
    "def access_json(data, index):\n",
    "    result = data\n",
    "    try:\n",
    "        for idx in index:\n",
    "            result = result[idx]\n",
    "        return result\n",
    "    except IndexError or KeyError:\n",
    "        return pd.np.nan\n",
    "\n",
    "mv['franchise'] = mv.collection.apply(lambda x: access_json(x, ['name']))\n",
    "mv['collection_poster'] = mv.collection.apply(lambda x: access_json(x, ['poster_path']))\n",
    "\n",
    "genre_cols = ['genre1','genre2']\n",
    "for i,col in enumerate(genre_cols):\n",
    "    mv[col] = mv.genres.apply(lambda x: access_json(x, [i,'name']))\n",
    "\n",
    "\n",
    "prod_comp_cols = ['company1','company2']\n",
    "for i,col in enumerate(prod_comp_cols):\n",
    "    mv[col] = mv.production_companies.apply(lambda x: access_json(x, [i,'name']))\n",
    "    \n",
    "mv['production_country'] = mv.production_countries.apply(lambda x: access_json(x, [0,'name']))\n",
    "\n",
    "cr['actor_lead'] = cr.cast.apply(lambda x: access_json(x, [0, 'name']))\n",
    "\n",
    "#Now let's merge them on id\n",
    "df_movies = pd.merge(mv, cr, left_on='id', right_on='id')\n",
    "\n",
    "\n",
    "df_movies = df_movies[['id','franchise','collection_poster','title','release_date','actor_lead','Director','genre1','genre2','original_language'\n",
    "                   ,'production_country','company1','company2','runtime','vote_average','vote_count'\n",
    "                   ,'budget','adjusted_budget','revenue','adjusted_revenue','overview','tagline','poster_path']]\n",
    "\n",
    "for col in [ 'budget','revenue','adjusted_budget','adjusted_revenue']:\n",
    "    df_movies[col] = df_movies[col].apply(lambda x: x/1000000)\n",
    "    df_movies[col] = df_movies[col].fillna(0)\n",
    "\n",
    "df_movies['year'] = df_movies.release_date.dt.year.fillna(0).astype('int')\n",
    "df_movies['month'] = df_movies.release_date.dt.month.fillna(0).astype('int')\n",
    "\n",
    "\n",
    "df_movies.head()"
   ]
  },
  {
   "cell_type": "markdown",
   "metadata": {},
   "source": [
    "## Prepare Data for Recommender "
   ]
  },
  {
   "cell_type": "code",
   "execution_count": null,
   "metadata": {},
   "outputs": [],
   "source": [
    "vote_df = df_movies.sort_values('vote_count').reset_index().drop(columns='index')\n",
    "vote_df['vote_count'] = vote_df.vote_count.fillna(0).astype('int')"
   ]
  },
  {
   "cell_type": "markdown",
   "metadata": {},
   "source": [
    "If you look at the data, there're lot of imbalance between vote_count and vote_average. In other word, many movies with rate of 10 but only have 1 vote. To filter out those values, we could take value of 95 percent of vote_count, so that our vote_count has vote greater than 95% of our data."
   ]
  },
  {
   "cell_type": "code",
   "execution_count": null,
   "metadata": {},
   "outputs": [],
   "source": [
    "np.percentile(vote_df.vote_count,95)"
   ]
  },
  {
   "cell_type": "markdown",
   "metadata": {},
   "source": [
    "So to be listed in our chart, vote_count has to be greater than 430"
   ]
  },
  {
   "cell_type": "code",
   "execution_count": null,
   "metadata": {},
   "outputs": [],
   "source": [
    "vote_df = vote_df[vote_df.vote_count>=430]\n",
    "vote_df.shape"
   ]
  },
  {
   "cell_type": "markdown",
   "metadata": {},
   "source": [
    "# Genre Recommender\n",
    "We'll try to build a recommender based on highest rating in a particular genre and year, optionally."
   ]
  },
  {
   "cell_type": "code",
   "execution_count": null,
   "metadata": {},
   "outputs": [],
   "source": [
    "def genre_recommender(gen,year_=1900):\n",
    "    rec_gen = vote_df[((vote_df.genre1==gen) | (vote_df.genre2==gen))& (vote_df.year>=year_)].sort_values('vote_average', ascending=False)\n",
    "    return rec_gen\n",
    "\n",
    "gen = 'Science Fiction'\n",
    "#year_ = 2012\n",
    "rec_gen = genre_recommender(gen,year_)\n",
    "rec_gen[['title','vote_average','year']].head(10)"
   ]
  },
  {
   "cell_type": "markdown",
   "metadata": {},
   "source": [
    "# Content Recommender\n",
    "Now, lets make a recommender based on similiarity of overview and tagline"
   ]
  },
  {
   "cell_type": "code",
   "execution_count": null,
   "metadata": {},
   "outputs": [],
   "source": [
    "con_rec = df_movies[df_movies.original_language=='en']\n",
    "con_rec.shape"
   ]
  },
  {
   "cell_type": "code",
   "execution_count": null,
   "metadata": {},
   "outputs": [],
   "source": [
    "con_rec['tagline'] = con_rec.tagline.fillna('')\n",
    "con_rec['overview'] = con_rec.overview.fillna('')\n",
    "con_rec['description'] = con_rec['tagline'] + con_rec['overview']"
   ]
  },
  {
   "cell_type": "markdown",
   "metadata": {},
   "source": [
    "We could use cosine similiarity and vectorizer to make a quantity measurement of similiarity."
   ]
  },
  {
   "cell_type": "code",
   "execution_count": null,
   "metadata": {},
   "outputs": [],
   "source": [
    "from sklearn.feature_extraction.text import TfidfVectorizer, CountVectorizer\n",
    "from sklearn.metrics.pairwise import linear_kernel, cosine_similarity\n",
    "\n",
    "tf = TfidfVectorizer(analyzer='word',ngram_range=(1,2), min_df=0, stop_words='english')\n",
    "tfidf_matrix = tf.fit_transform(con_rec['description'])"
   ]
  },
  {
   "cell_type": "code",
   "execution_count": null,
   "metadata": {},
   "outputs": [],
   "source": [
    "tfidf_matrix.shape"
   ]
  },
  {
   "cell_type": "code",
   "execution_count": null,
   "metadata": {},
   "outputs": [],
   "source": [
    "cosine_sim = linear_kernel(tfidf_matrix, tfidf_matrix)\n",
    "cosine_sim[0]"
   ]
  },
  {
   "cell_type": "code",
   "execution_count": null,
   "metadata": {},
   "outputs": [],
   "source": [
    "con_rec = con_rec.reset_index()\n",
    "titles = con_rec['title']\n",
    "ind = pd.Series(con_rec.index,index=con_rec['title'])\n",
    "ind.head()"
   ]
  },
  {
   "cell_type": "code",
   "execution_count": null,
   "metadata": {},
   "outputs": [],
   "source": [
    "def content_recommender(title):\n",
    "    idx = ind[title]\n",
    "    if idx.shape != ():\n",
    "        idx = ind[title].iloc[0]          #I use iloc to choose the first title appear in case of duplicated index\n",
    "        \n",
    "    sim_scores = list(enumerate(cosine_sim[idx]))\n",
    "    sim_scores = sorted(sim_scores, key=lambda x: x[1], reverse=True)\n",
    "    sim_scores = sim_scores[1:31]\n",
    "    movie_indices = [i[0] for i in sim_scores]\n",
    "    return titles.iloc[movie_indices]"
   ]
  },
  {
   "cell_type": "code",
   "execution_count": null,
   "metadata": {},
   "outputs": [],
   "source": [
    "content_recommender('The Dark Knight').head(10)"
   ]
  },
  {
   "cell_type": "markdown",
   "metadata": {},
   "source": [
    "We could see even the title doesn't contain word 'Batman' but our recommender succeed to recommend another Batman movies. Let's try another"
   ]
  },
  {
   "cell_type": "code",
   "execution_count": null,
   "metadata": {},
   "outputs": [],
   "source": [
    "content_recommender('Justice League: The Flashpoint Paradox').head(10)"
   ]
  }
 ],
 "metadata": {
  "kernelspec": {
   "display_name": "Python 3",
   "language": "python",
   "name": "python3"
  },
  "language_info": {
   "codemirror_mode": {
    "name": "ipython",
    "version": 3
   },
   "file_extension": ".py",
   "mimetype": "text/x-python",
   "name": "python",
   "nbconvert_exporter": "python",
   "pygments_lexer": "ipython3",
   "version": "3.7.4"
  }
 },
 "nbformat": 4,
 "nbformat_minor": 2
}
