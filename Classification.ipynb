{
 "cells": [
  {
   "cell_type": "code",
   "execution_count": 1,
   "metadata": {},
   "outputs": [],
   "source": [
    "import json\n",
    "import pandas as pd\n",
    "import seaborn as sns\n",
    "import matplotlib.pyplot as plt\n",
    "import numpy as np\n"
   ]
  },
  {
   "cell_type": "markdown",
   "metadata": {},
   "source": [
    "# Data Wrangling"
   ]
  },
  {
   "cell_type": "code",
   "execution_count": 2,
   "metadata": {},
   "outputs": [
    {
     "name": "stderr",
     "output_type": "stream",
     "text": [
      "c:\\program files\\python\\python37\\lib\\site-packages\\IPython\\core\\interactiveshell.py:3051: DtypeWarning: Columns (21) have mixed types. Specify dtype option on import or set low_memory=False.\n",
      "  interactivity=interactivity, compiler=compiler, result=result)\n"
     ]
    }
   ],
   "source": [
    "json_cols = ['collection','genres','production_companies','production_countries']\n",
    "mv = pd.read_csv('movies_metadata.csv', parse_dates = ['release_date'])\n",
    "\n",
    "for cols in json_cols:\n",
    "    mv[cols] = mv[cols].apply(json.loads)\n",
    "    \n",
    "cr = pd.read_csv('credits.csv')\n",
    "\n",
    "cr['cast'] = cr['cast'].apply(json.loads)\n"
   ]
  },
  {
   "cell_type": "code",
   "execution_count": 4,
   "metadata": {},
   "outputs": [],
   "source": [
    "def access_json(data, index):\n",
    "    result = data\n",
    "    try:\n",
    "        for idx in index:\n",
    "            result = result[idx]\n",
    "        return result\n",
    "    except IndexError or KeyError:\n",
    "        return pd.np.nan\n",
    "\n",
    "    \n",
    "def accessall_json(data):\n",
    "    result = []\n",
    "    try:\n",
    "        for i in data:\n",
    "            result.append(str(i['name']))\n",
    "        return result\n",
    "    except IndexError or KeyError:\n",
    "        return pd.np.nan  \n",
    "    \n",
    "    \n",
    "mv['franchise'] = mv.collection.apply(lambda x: access_json(x, ['name']))\n",
    "mv['collection_poster'] = mv.collection.apply(lambda x: access_json(x, ['poster_path']))\n",
    "\n",
    "\n",
    "mv['genre'] = mv.genres.apply(lambda x: access_json(x, [0,'name']))\n",
    "\n",
    "\n",
    "mv['production_country'] = mv.production_countries.apply(lambda x: access_json(x, [0,'name']))\n",
    "\n",
    "mv['countries_num'] = mv.production_countries.apply(lambda x: len(accessall_json(x)))\n",
    "\n",
    "mv['companies'] = mv.production_companies.apply(lambda x: accessall_json(x))\n",
    "\n",
    "cr['actors'] = cr.cast.apply(lambda x: accessall_json(x))\n",
    "\n",
    "cr['cast_size'] = cr.actors.apply(lambda x: len(x))"
   ]
  },
  {
   "cell_type": "markdown",
   "metadata": {},
   "source": [
    "For this time i'll try to get the list of all actors and count how many actors is in top 10, also for production companies"
   ]
  },
  {
   "cell_type": "code",
   "execution_count": 5,
   "metadata": {},
   "outputs": [
    {
     "data": {
      "text/html": [
       "<div>\n",
       "<style scoped>\n",
       "    .dataframe tbody tr th:only-of-type {\n",
       "        vertical-align: middle;\n",
       "    }\n",
       "\n",
       "    .dataframe tbody tr th {\n",
       "        vertical-align: top;\n",
       "    }\n",
       "\n",
       "    .dataframe thead th {\n",
       "        text-align: right;\n",
       "    }\n",
       "</style>\n",
       "<table border=\"1\" class=\"dataframe\">\n",
       "  <thead>\n",
       "    <tr style=\"text-align: right;\">\n",
       "      <th></th>\n",
       "      <th>adult</th>\n",
       "      <th>collection</th>\n",
       "      <th>genres</th>\n",
       "      <th>homepage</th>\n",
       "      <th>id</th>\n",
       "      <th>imdb_id</th>\n",
       "      <th>original_language</th>\n",
       "      <th>original_title</th>\n",
       "      <th>overview</th>\n",
       "      <th>popularity</th>\n",
       "      <th>...</th>\n",
       "      <th>vote_average</th>\n",
       "      <th>vote_count</th>\n",
       "      <th>adjusted_budget</th>\n",
       "      <th>adjusted_revenue</th>\n",
       "      <th>franchise</th>\n",
       "      <th>collection_poster</th>\n",
       "      <th>genre</th>\n",
       "      <th>production_country</th>\n",
       "      <th>countries_num</th>\n",
       "      <th>companies</th>\n",
       "    </tr>\n",
       "  </thead>\n",
       "  <tbody>\n",
       "    <tr>\n",
       "      <th>0</th>\n",
       "      <td>False</td>\n",
       "      <td>{'id': '', 'name': '', 'poster_path': '', 'bac...</td>\n",
       "      <td>[{'id': 99, 'name': 'Documentary'}]</td>\n",
       "      <td>NaN</td>\n",
       "      <td>195557</td>\n",
       "      <td>tt0230613</td>\n",
       "      <td>en</td>\n",
       "      <td>Panorama of Eiffel Tower</td>\n",
       "      <td>“Showing the entire height of this wonderful s...</td>\n",
       "      <td>0.071812</td>\n",
       "      <td>...</td>\n",
       "      <td>6.5</td>\n",
       "      <td>2.0</td>\n",
       "      <td>0.0</td>\n",
       "      <td>0.0</td>\n",
       "      <td></td>\n",
       "      <td></td>\n",
       "      <td>Documentary</td>\n",
       "      <td>United States of America</td>\n",
       "      <td>1</td>\n",
       "      <td>[Edison Manufacturing Company]</td>\n",
       "    </tr>\n",
       "    <tr>\n",
       "      <th>1</th>\n",
       "      <td>False</td>\n",
       "      <td>{'id': '', 'name': '', 'poster_path': '', 'bac...</td>\n",
       "      <td>[{'id': 99, 'name': 'Documentary'}]</td>\n",
       "      <td>NaN</td>\n",
       "      <td>195535</td>\n",
       "      <td>tt0309973</td>\n",
       "      <td>en</td>\n",
       "      <td>Palace of Electricity</td>\n",
       "      <td>A panoramic shot, making a full circle, at the...</td>\n",
       "      <td>0.071779</td>\n",
       "      <td>...</td>\n",
       "      <td>5.5</td>\n",
       "      <td>2.0</td>\n",
       "      <td>0.0</td>\n",
       "      <td>0.0</td>\n",
       "      <td></td>\n",
       "      <td></td>\n",
       "      <td>Documentary</td>\n",
       "      <td>United States of America</td>\n",
       "      <td>1</td>\n",
       "      <td>[Edison Manufacturing Company]</td>\n",
       "    </tr>\n",
       "    <tr>\n",
       "      <th>2</th>\n",
       "      <td>False</td>\n",
       "      <td>{'id': '', 'name': '', 'poster_path': '', 'bac...</td>\n",
       "      <td>[{'id': 14, 'name': 'Fantasy'}, {'id': 28, 'na...</td>\n",
       "      <td>NaN</td>\n",
       "      <td>49280</td>\n",
       "      <td>tt0135453</td>\n",
       "      <td>fr</td>\n",
       "      <td>LHomme orchestre</td>\n",
       "      <td>A band-leader has arranged seven chairs for th...</td>\n",
       "      <td>1.109068</td>\n",
       "      <td>...</td>\n",
       "      <td>6.5</td>\n",
       "      <td>22.0</td>\n",
       "      <td>0.0</td>\n",
       "      <td>0.0</td>\n",
       "      <td></td>\n",
       "      <td></td>\n",
       "      <td>Fantasy</td>\n",
       "      <td>France</td>\n",
       "      <td>1</td>\n",
       "      <td>[Star Film Company]</td>\n",
       "    </tr>\n",
       "    <tr>\n",
       "      <th>3</th>\n",
       "      <td>False</td>\n",
       "      <td>{'id': '', 'name': '', 'poster_path': '', 'bac...</td>\n",
       "      <td>[{'id': 35, 'name': 'Comedy'}, {'id': 14, 'nam...</td>\n",
       "      <td>NaN</td>\n",
       "      <td>106807</td>\n",
       "      <td>tt0135571</td>\n",
       "      <td>fr</td>\n",
       "      <td>Nouvelles luttes extravagantes</td>\n",
       "      <td>A series of fantastical wrestling matches.</td>\n",
       "      <td>0.225432</td>\n",
       "      <td>...</td>\n",
       "      <td>6.5</td>\n",
       "      <td>6.0</td>\n",
       "      <td>0.0</td>\n",
       "      <td>0.0</td>\n",
       "      <td></td>\n",
       "      <td></td>\n",
       "      <td>Comedy</td>\n",
       "      <td>France</td>\n",
       "      <td>1</td>\n",
       "      <td>[Star-Film]</td>\n",
       "    </tr>\n",
       "    <tr>\n",
       "      <th>4</th>\n",
       "      <td>False</td>\n",
       "      <td>{'id': '', 'name': '', 'poster_path': '', 'bac...</td>\n",
       "      <td>[]</td>\n",
       "      <td>NaN</td>\n",
       "      <td>195612</td>\n",
       "      <td>tt0270736</td>\n",
       "      <td>en</td>\n",
       "      <td>Why Jones Discharged His Clerks</td>\n",
       "      <td>Two delinquent clerks are seated in a brokers ...</td>\n",
       "      <td>0.001187</td>\n",
       "      <td>...</td>\n",
       "      <td>0.0</td>\n",
       "      <td>0.0</td>\n",
       "      <td>0.0</td>\n",
       "      <td>0.0</td>\n",
       "      <td></td>\n",
       "      <td></td>\n",
       "      <td>NaN</td>\n",
       "      <td>NaN</td>\n",
       "      <td>0</td>\n",
       "      <td>[]</td>\n",
       "    </tr>\n",
       "  </tbody>\n",
       "</table>\n",
       "<p>5 rows × 32 columns</p>\n",
       "</div>"
      ],
      "text/plain": [
       "   adult                                         collection  \\\n",
       "0  False  {'id': '', 'name': '', 'poster_path': '', 'bac...   \n",
       "1  False  {'id': '', 'name': '', 'poster_path': '', 'bac...   \n",
       "2  False  {'id': '', 'name': '', 'poster_path': '', 'bac...   \n",
       "3  False  {'id': '', 'name': '', 'poster_path': '', 'bac...   \n",
       "4  False  {'id': '', 'name': '', 'poster_path': '', 'bac...   \n",
       "\n",
       "                                              genres homepage      id  \\\n",
       "0                [{'id': 99, 'name': 'Documentary'}]      NaN  195557   \n",
       "1                [{'id': 99, 'name': 'Documentary'}]      NaN  195535   \n",
       "2  [{'id': 14, 'name': 'Fantasy'}, {'id': 28, 'na...      NaN   49280   \n",
       "3  [{'id': 35, 'name': 'Comedy'}, {'id': 14, 'nam...      NaN  106807   \n",
       "4                                                 []      NaN  195612   \n",
       "\n",
       "     imdb_id original_language                   original_title  \\\n",
       "0  tt0230613                en         Panorama of Eiffel Tower   \n",
       "1  tt0309973                en            Palace of Electricity   \n",
       "2  tt0135453                fr                 LHomme orchestre   \n",
       "3  tt0135571                fr   Nouvelles luttes extravagantes   \n",
       "4  tt0270736                en  Why Jones Discharged His Clerks   \n",
       "\n",
       "                                            overview  popularity  ...  \\\n",
       "0  “Showing the entire height of this wonderful s...    0.071812  ...   \n",
       "1  A panoramic shot, making a full circle, at the...    0.071779  ...   \n",
       "2  A band-leader has arranged seven chairs for th...    1.109068  ...   \n",
       "3         A series of fantastical wrestling matches.    0.225432  ...   \n",
       "4  Two delinquent clerks are seated in a brokers ...    0.001187  ...   \n",
       "\n",
       "  vote_average vote_count adjusted_budget adjusted_revenue  franchise  \\\n",
       "0          6.5        2.0             0.0              0.0              \n",
       "1          5.5        2.0             0.0              0.0              \n",
       "2          6.5       22.0             0.0              0.0              \n",
       "3          6.5        6.0             0.0              0.0              \n",
       "4          0.0        0.0             0.0              0.0              \n",
       "\n",
       "   collection_poster        genre        production_country countries_num  \\\n",
       "0                     Documentary  United States of America             1   \n",
       "1                     Documentary  United States of America             1   \n",
       "2                         Fantasy                    France             1   \n",
       "3                          Comedy                    France             1   \n",
       "4                             NaN                       NaN             0   \n",
       "\n",
       "                        companies  \n",
       "0  [Edison Manufacturing Company]  \n",
       "1  [Edison Manufacturing Company]  \n",
       "2             [Star Film Company]  \n",
       "3                     [Star-Film]  \n",
       "4                              []  \n",
       "\n",
       "[5 rows x 32 columns]"
      ]
     },
     "execution_count": 5,
     "metadata": {},
     "output_type": "execute_result"
    }
   ],
   "source": [
    "mv.head()"
   ]
  },
  {
   "cell_type": "code",
   "execution_count": 94,
   "metadata": {},
   "outputs": [
    {
     "data": {
      "text/html": [
       "<div>\n",
       "<style scoped>\n",
       "    .dataframe tbody tr th:only-of-type {\n",
       "        vertical-align: middle;\n",
       "    }\n",
       "\n",
       "    .dataframe tbody tr th {\n",
       "        vertical-align: top;\n",
       "    }\n",
       "\n",
       "    .dataframe thead th {\n",
       "        text-align: right;\n",
       "    }\n",
       "</style>\n",
       "<table border=\"1\" class=\"dataframe\">\n",
       "  <thead>\n",
       "    <tr style=\"text-align: right;\">\n",
       "      <th></th>\n",
       "      <th>id</th>\n",
       "      <th>franchise</th>\n",
       "      <th>title</th>\n",
       "      <th>release_date</th>\n",
       "      <th>Director</th>\n",
       "      <th>actors</th>\n",
       "      <th>cast_size</th>\n",
       "      <th>genre</th>\n",
       "      <th>original_language</th>\n",
       "      <th>production_country</th>\n",
       "      <th>countries_num</th>\n",
       "      <th>companies</th>\n",
       "      <th>vote_average</th>\n",
       "      <th>runtime</th>\n",
       "      <th>adjusted_budget</th>\n",
       "      <th>adjusted_revenue</th>\n",
       "      <th>overview</th>\n",
       "      <th>year</th>\n",
       "      <th>month</th>\n",
       "    </tr>\n",
       "  </thead>\n",
       "  <tbody>\n",
       "    <tr>\n",
       "      <th>0</th>\n",
       "      <td>195557</td>\n",
       "      <td></td>\n",
       "      <td>Panorama of Eiffel Tower</td>\n",
       "      <td>1900-01-01</td>\n",
       "      <td>James H. White</td>\n",
       "      <td>[]</td>\n",
       "      <td>0</td>\n",
       "      <td>Documentary</td>\n",
       "      <td>en</td>\n",
       "      <td>United States of America</td>\n",
       "      <td>1</td>\n",
       "      <td>[Edison Manufacturing Company]</td>\n",
       "      <td>6.5</td>\n",
       "      <td>1.0</td>\n",
       "      <td>0.0</td>\n",
       "      <td>0.0</td>\n",
       "      <td>“Showing the entire height of this wonderful s...</td>\n",
       "      <td>1900</td>\n",
       "      <td>1</td>\n",
       "    </tr>\n",
       "    <tr>\n",
       "      <th>1</th>\n",
       "      <td>195535</td>\n",
       "      <td></td>\n",
       "      <td>Palace of Electricity</td>\n",
       "      <td>1900-01-01</td>\n",
       "      <td>James H. White</td>\n",
       "      <td>[]</td>\n",
       "      <td>0</td>\n",
       "      <td>Documentary</td>\n",
       "      <td>en</td>\n",
       "      <td>United States of America</td>\n",
       "      <td>1</td>\n",
       "      <td>[Edison Manufacturing Company]</td>\n",
       "      <td>5.5</td>\n",
       "      <td>1.0</td>\n",
       "      <td>0.0</td>\n",
       "      <td>0.0</td>\n",
       "      <td>A panoramic shot, making a full circle, at the...</td>\n",
       "      <td>1900</td>\n",
       "      <td>1</td>\n",
       "    </tr>\n",
       "    <tr>\n",
       "      <th>2</th>\n",
       "      <td>49280</td>\n",
       "      <td></td>\n",
       "      <td>The One-Man Band</td>\n",
       "      <td>1900-01-01</td>\n",
       "      <td>Georges Méliès</td>\n",
       "      <td>[Georges Méliès]</td>\n",
       "      <td>1</td>\n",
       "      <td>Fantasy</td>\n",
       "      <td>fr</td>\n",
       "      <td>France</td>\n",
       "      <td>1</td>\n",
       "      <td>[Star Film Company]</td>\n",
       "      <td>6.5</td>\n",
       "      <td>1.0</td>\n",
       "      <td>0.0</td>\n",
       "      <td>0.0</td>\n",
       "      <td>A band-leader has arranged seven chairs for th...</td>\n",
       "      <td>1900</td>\n",
       "      <td>1</td>\n",
       "    </tr>\n",
       "    <tr>\n",
       "      <th>3</th>\n",
       "      <td>106807</td>\n",
       "      <td></td>\n",
       "      <td>The Fat and Lean Wrestling Match</td>\n",
       "      <td>1900-01-01</td>\n",
       "      <td>Georges Méliès</td>\n",
       "      <td>[Jeanne dAlcy, Georges Méliès]</td>\n",
       "      <td>2</td>\n",
       "      <td>Comedy</td>\n",
       "      <td>fr</td>\n",
       "      <td>France</td>\n",
       "      <td>1</td>\n",
       "      <td>[Star-Film]</td>\n",
       "      <td>6.5</td>\n",
       "      <td>2.0</td>\n",
       "      <td>0.0</td>\n",
       "      <td>0.0</td>\n",
       "      <td>A series of fantastical wrestling matches.</td>\n",
       "      <td>1900</td>\n",
       "      <td>1</td>\n",
       "    </tr>\n",
       "    <tr>\n",
       "      <th>4</th>\n",
       "      <td>195612</td>\n",
       "      <td></td>\n",
       "      <td>Why Jones Discharged His Clerks</td>\n",
       "      <td>1900-01-21</td>\n",
       "      <td>James H. White</td>\n",
       "      <td>[]</td>\n",
       "      <td>0</td>\n",
       "      <td>NaN</td>\n",
       "      <td>en</td>\n",
       "      <td>NaN</td>\n",
       "      <td>0</td>\n",
       "      <td>[]</td>\n",
       "      <td>0.0</td>\n",
       "      <td>1.0</td>\n",
       "      <td>0.0</td>\n",
       "      <td>0.0</td>\n",
       "      <td>Two delinquent clerks are seated in a brokers ...</td>\n",
       "      <td>1900</td>\n",
       "      <td>1</td>\n",
       "    </tr>\n",
       "  </tbody>\n",
       "</table>\n",
       "</div>"
      ],
      "text/plain": [
       "       id franchise                             title release_date  \\\n",
       "0  195557                    Panorama of Eiffel Tower   1900-01-01   \n",
       "1  195535                       Palace of Electricity   1900-01-01   \n",
       "2   49280                            The One-Man Band   1900-01-01   \n",
       "3  106807            The Fat and Lean Wrestling Match   1900-01-01   \n",
       "4  195612             Why Jones Discharged His Clerks   1900-01-21   \n",
       "\n",
       "         Director                          actors  cast_size        genre  \\\n",
       "0  James H. White                              []          0  Documentary   \n",
       "1  James H. White                              []          0  Documentary   \n",
       "2  Georges Méliès                [Georges Méliès]          1      Fantasy   \n",
       "3  Georges Méliès  [Jeanne dAlcy, Georges Méliès]          2       Comedy   \n",
       "4  James H. White                              []          0          NaN   \n",
       "\n",
       "  original_language        production_country  countries_num  \\\n",
       "0                en  United States of America              1   \n",
       "1                en  United States of America              1   \n",
       "2                fr                    France              1   \n",
       "3                fr                    France              1   \n",
       "4                en                       NaN              0   \n",
       "\n",
       "                        companies  vote_average  runtime  adjusted_budget  \\\n",
       "0  [Edison Manufacturing Company]           6.5      1.0              0.0   \n",
       "1  [Edison Manufacturing Company]           5.5      1.0              0.0   \n",
       "2             [Star Film Company]           6.5      1.0              0.0   \n",
       "3                     [Star-Film]           6.5      2.0              0.0   \n",
       "4                              []           0.0      1.0              0.0   \n",
       "\n",
       "   adjusted_revenue                                           overview  year  \\\n",
       "0               0.0  “Showing the entire height of this wonderful s...  1900   \n",
       "1               0.0  A panoramic shot, making a full circle, at the...  1900   \n",
       "2               0.0  A band-leader has arranged seven chairs for th...  1900   \n",
       "3               0.0         A series of fantastical wrestling matches.  1900   \n",
       "4               0.0  Two delinquent clerks are seated in a brokers ...  1900   \n",
       "\n",
       "   month  \n",
       "0      1  \n",
       "1      1  \n",
       "2      1  \n",
       "3      1  \n",
       "4      1  "
      ]
     },
     "execution_count": 94,
     "metadata": {},
     "output_type": "execute_result"
    }
   ],
   "source": [
    "#Now let's merge them on id\n",
    "df_movies = pd.merge(mv, cr, left_on='id', right_on='id')\n",
    "\n",
    "\n",
    "df_movies = df_movies[['id','franchise','title','release_date','Director','actors','cast_size','genre','original_language'\n",
    "                   ,'production_country','countries_num','companies','vote_average','runtime','adjusted_budget','adjusted_revenue','overview']]\n",
    "\n",
    "for col in [ 'adjusted_budget','adjusted_revenue']:\n",
    "    df_movies[col] = df_movies[col].apply(lambda x: x/1000000)\n",
    "    df_movies[col] = df_movies[col].fillna(0)\n",
    "\n",
    "df_movies['year'] = df_movies.release_date.dt.year.fillna(0).astype('int')\n",
    "df_movies['month'] = df_movies.release_date.dt.month.fillna(0).astype('int')\n",
    "\n",
    "\n",
    "df_movies.head()"
   ]
  },
  {
   "cell_type": "code",
   "execution_count": null,
   "metadata": {},
   "outputs": [],
   "source": [
    "df_movies.sort_values('adjusted_revenue', ascending=False)"
   ]
  },
  {
   "cell_type": "markdown",
   "metadata": {},
   "source": []
  },
  {
   "cell_type": "code",
   "execution_count": 13,
   "metadata": {},
   "outputs": [],
   "source": [
    "top_actors = ['Tom Cruise','Tom Hanks','Daniel Radcliffe','Johnny Depp','Harrison Ford','Sylvester Stallone', 'Will Smith','Bruce Willis', 'Robert Downey Jr.', 'Vivien Leigh']\n",
    "top_direc = ['Steven Spielberg', 'James Cameron', 'Peter Jackson', 'Michael Bay', 'Victor Fleming', 'George Lucas', 'Robert Zemeckis', 'David Hand', 'Chris Columbus', 'Tim Burton']\n",
    "top_ph = ['Paramount Pictures', 'Metro-Goldwyn-Mayer (MGM)','Twentieth Century Fox Film Corporation','Warner Bros.','Universal Pictures','Columbia Pictures','Columbia Pictures Corporation','RKO Radio Pictures','United Artists','Walt Disney Pictures']"
   ]
  },
  {
   "cell_type": "code",
   "execution_count": 27,
   "metadata": {},
   "outputs": [],
   "source": [
    "def top_count(data,list_top):\n",
    "    counter = 0\n",
    "    for name in data:\n",
    "        counter = counter + list_top.count(name)\n",
    "    return counter"
   ]
  },
  {
   "cell_type": "code",
   "execution_count": 95,
   "metadata": {},
   "outputs": [],
   "source": [
    "df_movies['cast_top'] = df_movies.actors.apply(lambda x: top_count(list(dict.fromkeys(x)),top_actors))\n",
    "df_movies['ph_top'] = df_movies.companies.apply(lambda x: top_count(list(dict.fromkeys(x)),top_ph))"
   ]
  },
  {
   "cell_type": "code",
   "execution_count": 38,
   "metadata": {},
   "outputs": [
    {
     "data": {
      "text/plain": [
       "Index(['id', 'franchise', 'title', 'release_date', 'Director', 'actors',\n",
       "       'cast_size', 'genre', 'original_language', 'production_country',\n",
       "       'countries_num', 'companies', 'runtime', 'adjusted_budget',\n",
       "       'adjusted_revenue', 'overview', 'year', 'month', 'cast_top', 'ph_top'],\n",
       "      dtype='object')"
      ]
     },
     "execution_count": 38,
     "metadata": {},
     "output_type": "execute_result"
    }
   ],
   "source": [
    "df_movies.columns"
   ]
  },
  {
   "cell_type": "markdown",
   "metadata": {},
   "source": [
    "Lets make a column named earning.Thins column will valued with 1 or 0, indicating if a movie was a hit or flop. For a movie being called as a hit, I determined that revenue must have at least twice the budget."
   ]
  },
  {
   "cell_type": "code",
   "execution_count": 96,
   "metadata": {},
   "outputs": [
    {
     "data": {
      "text/plain": [
       "(5360, 17)"
      ]
     },
     "execution_count": 96,
     "metadata": {},
     "output_type": "execute_result"
    }
   ],
   "source": [
    "clas = df_movies[(df_movies.adjusted_budget != 0) & (df_movies.adjusted_revenue != 0)]\n",
    "clas = clas.drop(['id','title','production_country','release_date','overview'],axis=1)\n",
    "clas['earning'] = clas.apply(lambda x: 1 if (x.adjusted_revenue >= 2*x.adjusted_budget) else 0, axis=1)\n",
    "clas.shape"
   ]
  },
  {
   "cell_type": "code",
   "execution_count": 37,
   "metadata": {},
   "outputs": [
    {
     "data": {
      "text/plain": [
       "1    2735\n",
       "0    2625\n",
       "Name: earning, dtype: int64"
      ]
     },
     "execution_count": 37,
     "metadata": {},
     "output_type": "execute_result"
    }
   ],
   "source": [
    "clas.earning.value_counts()"
   ]
  },
  {
   "cell_type": "markdown",
   "metadata": {},
   "source": [
    "looks like we got balanced class. Next we're going to make several columns to indicate the movie is belong to collection, and part of top 10 or not."
   ]
  },
  {
   "cell_type": "code",
   "execution_count": 97,
   "metadata": {},
   "outputs": [
    {
     "data": {
      "text/plain": [
       "1    4780\n",
       "0     580\n",
       "Name: is_english, dtype: int64"
      ]
     },
     "execution_count": 97,
     "metadata": {},
     "output_type": "execute_result"
    }
   ],
   "source": [
    "clas['franchise'] = clas['franchise'].fillna('')\n",
    "clas['franchise'] = clas['franchise'].apply(lambda x: 0 if x=='' else 1)\n",
    "clas['director'] = clas['Director'].apply(lambda x: 1 if x in top_direc else 0)\n",
    "clas['is_english'] = clas['original_language'].apply(lambda x: 1 if x=='en' else 0)\n",
    "clas.is_english.value_counts()"
   ]
  },
  {
   "cell_type": "code",
   "execution_count": 45,
   "metadata": {},
   "outputs": [
    {
     "data": {
      "text/plain": [
       "<seaborn.axisgrid.PairGrid at 0x25602273a88>"
      ]
     },
     "execution_count": 45,
     "metadata": {},
     "output_type": "execute_result"
    },
    {
     "data": {
      "image/png": "[encoded data removed]",
      "text/plain": [
       "<Figure size 360x360 with 1 Axes>"
      ]
     },
     "metadata": {
      "needs_background": "light"
     },
     "output_type": "display_data"
    }
   ],
   "source": [
    "ax = sns.PairGrid(data=clas, x_vars='franchise', y_vars='earning', size=5)\n",
    "ax.map(sns.pointplot, color='red')\n",
    "ax.set(ylim=(0, 1))"
   ]
  },
  {
   "cell_type": "markdown",
   "metadata": {},
   "source": [
    "It looks like a movie belong to a collection has more probability to succeed."
   ]
  },
  {
   "cell_type": "code",
   "execution_count": null,
   "metadata": {},
   "outputs": [],
   "source": []
  },
  {
   "cell_type": "code",
   "execution_count": 47,
   "metadata": {},
   "outputs": [
    {
     "data": {
      "text/plain": [
       "<seaborn.axisgrid.PairGrid at 0x25602175708>"
      ]
     },
     "execution_count": 47,
     "metadata": {},
     "output_type": "execute_result"
    },
    {
     "data": {
      "image/png": "[encoded data removed]",
      "text/plain": [
       "<Figure size 360x360 with 1 Axes>"
      ]
     },
     "metadata": {
      "needs_background": "light"
     },
     "output_type": "display_data"
    }
   ],
   "source": [
    "ax = sns.PairGrid(data=clas, x_vars='cast_top', y_vars='earning', size=5)\n",
    "ax.map(sns.pointplot, color='lightgreen')\n",
    "ax.set(ylim=(0, 1))"
   ]
  },
  {
   "cell_type": "code",
   "execution_count": 48,
   "metadata": {},
   "outputs": [
    {
     "data": {
      "text/plain": [
       "<seaborn.axisgrid.PairGrid at 0x2560230b248>"
      ]
     },
     "execution_count": 48,
     "metadata": {},
     "output_type": "execute_result"
    },
    {
     "data": {
      "image/png": "[encoded data removed]",
      "text/plain": [
       "<Figure size 360x360 with 1 Axes>"
      ]
     },
     "metadata": {
      "needs_background": "light"
     },
     "output_type": "display_data"
    }
   ],
   "source": [
    "ax = sns.PairGrid(data=clas, x_vars='director', y_vars='earning', size=5)\n",
    "ax.map(sns.pointplot, color='#f9bc86')\n",
    "ax.set(ylim=(0, 1))"
   ]
  },
  {
   "cell_type": "code",
   "execution_count": 82,
   "metadata": {},
   "outputs": [
    {
     "data": {
      "text/plain": [
       "Index(['franchise', 'Director', 'actors', 'cast_size', 'genre',\n",
       "       'original_language', 'countries_num', 'companies', 'vote_average',\n",
       "       'vote_count', 'runtime', 'adjusted_budget', 'adjusted_revenue', 'year',\n",
       "       'month', 'cast_top', 'ph_top', 'earning', 'director', 'is_english'],\n",
       "      dtype='object')"
      ]
     },
     "execution_count": 82,
     "metadata": {},
     "output_type": "execute_result"
    }
   ],
   "source": [
    "clas.columns"
   ]
  },
  {
   "cell_type": "markdown",
   "metadata": {},
   "source": [
    "Movies with top actors and directors also have more probability to succeed. Next lets build the  classifier. I use XGBClassifier this time."
   ]
  },
  {
   "cell_type": "code",
   "execution_count": 98,
   "metadata": {},
   "outputs": [
    {
     "data": {
      "text/plain": [
       "Index(['franchise', 'cast_size', 'countries_num', 'vote_average', 'runtime',\n",
       "       'adjusted_budget', 'year', 'month', 'cast_top', 'ph_top', 'earning',\n",
       "       'director', 'is_english', 'genre_isAction', 'genre_isAdventure',\n",
       "       'genre_isAnimation', 'genre_isComedy', 'genre_isCrime',\n",
       "       'genre_isDocumentary', 'genre_isDrama', 'genre_isFamily',\n",
       "       'genre_isFantasy', 'genre_isForeign', 'genre_isHistory',\n",
       "       'genre_isHorror', 'genre_isMusic', 'genre_isMystery', 'genre_isRomance',\n",
       "       'genre_isScience Fiction', 'genre_isTV Movie', 'genre_isThriller',\n",
       "       'genre_isWar', 'genre_isWestern'],\n",
       "      dtype='object')"
      ]
     },
     "execution_count": 98,
     "metadata": {},
     "output_type": "execute_result"
    }
   ],
   "source": [
    "from sklearn.model_selection import train_test_split, cross_val_score\n",
    "from xgboost import XGBClassifier\n",
    "\n",
    "clas = pd.get_dummies(clas,columns=['genre'], prefix_sep='_is')\n",
    "clas = clas.drop(['actors','Director','original_language','companies','adjusted_revenue'],axis=1)\n",
    "clas.columns"
   ]
  },
  {
   "cell_type": "code",
   "execution_count": 99,
   "metadata": {},
   "outputs": [],
   "source": [
    "X,y = clas.drop(['earning'],axis=1).values, clas['earning'].values\n",
    "\n",
    "X_train,X_test,y_train,y_test = train_test_split(X,y,test_size=0.25,stratify=y, shuffle=True, random_state=21)"
   ]
  },
  {
   "cell_type": "code",
   "execution_count": 130,
   "metadata": {},
   "outputs": [
    {
     "data": {
      "text/plain": [
       "array([0.70062112, 0.71144279, 0.69278607, 0.69154229, 0.67496887])"
      ]
     },
     "execution_count": 130,
     "metadata": {},
     "output_type": "execute_result"
    }
   ],
   "source": [
    "xgb = XGBClassifier()\n",
    "cross_val_score(xgb,X_train,y_train,cv=5)"
   ]
  },
  {
   "cell_type": "code",
   "execution_count": 131,
   "metadata": {},
   "outputs": [
    {
     "data": {
      "text/plain": [
       "XGBClassifier(base_score=0.5, booster='gbtree', colsample_bylevel=1,\n",
       "              colsample_bynode=1, colsample_bytree=1, gamma=0,\n",
       "              learning_rate=0.1, max_delta_step=0, max_depth=3,\n",
       "              min_child_weight=1, missing=None, n_estimators=100, n_jobs=1,\n",
       "              nthread=None, objective='binary:logistic', random_state=0,\n",
       "              reg_alpha=0, reg_lambda=1, scale_pos_weight=1, seed=None,\n",
       "              silent=None, subsample=1, verbosity=1)"
      ]
     },
     "execution_count": 131,
     "metadata": {},
     "output_type": "execute_result"
    }
   ],
   "source": [
    "xgb.fit(X_train,y_train)"
   ]
  },
  {
   "cell_type": "markdown",
   "metadata": {},
   "source": [
    "cross-val score looks balance for 5 fold data"
   ]
  },
  {
   "cell_type": "code",
   "execution_count": 132,
   "metadata": {},
   "outputs": [
    {
     "data": {
      "text/plain": [
       "0.6925373134328359"
      ]
     },
     "execution_count": 132,
     "metadata": {},
     "output_type": "execute_result"
    }
   ],
   "source": [
    "xgb.score(X_test,y_test)"
   ]
  },
  {
   "cell_type": "code",
   "execution_count": 88,
   "metadata": {},
   "outputs": [
    {
     "data": {
      "text/plain": [
       "Index(['franchise', 'cast_size', 'countries_num', 'vote_average', 'vote_count',\n",
       "       'runtime', 'adjusted_budget', 'year', 'month', 'cast_top', 'ph_top',\n",
       "       'earning', 'director', 'is_english', 'genre_isAction',\n",
       "       'genre_isAdventure', 'genre_isAnimation', 'genre_isComedy',\n",
       "       'genre_isCrime', 'genre_isDocumentary', 'genre_isDrama',\n",
       "       'genre_isFamily', 'genre_isFantasy', 'genre_isForeign',\n",
       "       'genre_isHistory', 'genre_isHorror', 'genre_isMusic', 'genre_isMystery',\n",
       "       'genre_isRomance', 'genre_isScience Fiction', 'genre_isTV Movie',\n",
       "       'genre_isThriller', 'genre_isWar', 'genre_isWestern'],\n",
       "      dtype='object')"
      ]
     },
     "execution_count": 88,
     "metadata": {},
     "output_type": "execute_result"
    }
   ],
   "source": [
    "clas.columns"
   ]
  },
  {
   "cell_type": "markdown",
   "metadata": {},
   "source": [
    "Lets use our model to predict the probability if a movie gonna be a hit or flop"
   ]
  },
  {
   "cell_type": "code",
   "execution_count": 103,
   "metadata": {},
   "outputs": [
    {
     "name": "stdout",
     "output_type": "stream",
     "text": [
      "Avengers: End Game has 0.9645093679428101 probability to be a hit movie!!\n"
     ]
    }
   ],
   "source": [
    "title = 'Avengers: End Game'\n",
    "film = [[1,31,1,8.4,181,357,2019,4,1,1,0,1,1,0,0,0,0,0,0,0,0,0,0,0,0,0,0,0,0,0,0,0]]\n",
    "prob = xgb.predict_proba(film)[:,1]\n",
    "print(title+' has {} probability to be a hit movie!!'.format(prob[0]))"
   ]
  },
  {
   "cell_type": "code",
   "execution_count": 112,
   "metadata": {},
   "outputs": [
    {
     "name": "stdout",
     "output_type": "stream",
     "text": [
      "The Adventures of Pluto Nash  has 0.36363622546195984 probability to be a hit movie!!\n"
     ]
    }
   ],
   "source": [
    "title = 'The Adventures of Pluto Nash '\n",
    "film = [[0,15,1,3.8,95,100,2002,8,0,0,0,1,0,0,0,1,0,0,0,0,0,0,0,0,0,0,0,0,0,0,0,0]]\n",
    "prob = xgb.predict_proba(film)[:,1]\n",
    "print(title+' has {} probability to be a hit movie!!'.format(prob[0]))"
   ]
  },
  {
   "cell_type": "markdown",
   "metadata": {},
   "source": [
    "Well if you know that Avengers: End Game now has been rank #1 for highest gross after Avatar, but Pluto Nash is one of box office disaster with only $7 million of revenue, which is 0.07% percent of the budget."
   ]
  },
  {
   "cell_type": "code",
   "execution_count": 105,
   "metadata": {},
   "outputs": [
    {
     "data": {
      "text/plain": [
       "<matplotlib.axes._subplots.AxesSubplot at 0x25604d6df88>"
      ]
     },
     "execution_count": 105,
     "metadata": {},
     "output_type": "execute_result"
    },
    {
     "data": {
      "image/png": "[encoded data removed]",
      "text/plain": [
       "<Figure size 720x864 with 1 Axes>"
      ]
     },
     "metadata": {
      "needs_background": "light"
     },
     "output_type": "display_data"
    }
   ],
   "source": [
    "clas = clas.drop(columns='earning')\n",
    "plt.figure(figsize=(10,12))\n",
    "sns.barplot(x=xgb.feature_importances_, y=clas.columns)"
   ]
  },
  {
   "cell_type": "markdown",
   "metadata": {},
   "source": [
    "It seems that belong to franchise, vote_average and production company is the important features of this classifier."
   ]
  }
 ],
 "metadata": {
  "kernelspec": {
   "display_name": "Python 3",
   "language": "python",
   "name": "python3"
  },
  "language_info": {
   "codemirror_mode": {
    "name": "ipython",
    "version": 3
   },
   "file_extension": ".py",
   "mimetype": "text/x-python",
   "name": "python",
   "nbconvert_exporter": "python",
   "pygments_lexer": "ipython3",
   "version": "3.7.4"
  }
 },
 "nbformat": 4,
 "nbformat_minor": 2
}
